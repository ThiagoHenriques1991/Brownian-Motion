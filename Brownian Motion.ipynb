{
 "cells": [
  {
   "cell_type": "code",
   "execution_count": null,
   "id": "9fbf0e14",
   "metadata": {},
   "outputs": [],
   "source": [
    "#pip install matplotlib.pyplot\n",
    "#pip install numpy\n",
    "\n",
    "import numpy as np\n",
    "import matplotlib.pyplot as plt\n",
    "\n",
    "def BM():\n",
    "    T = 100\n",
    "    # del = 1\n",
    "    # del = 0.1\n",
    "    # del = 0.01\n",
    "    # del = 0.001\n",
    "    # del = 0.0001\n",
    "    # del = 0.00001\n",
    "    delta = 0.000001\n",
    "\n",
    "    sig = 1\n",
    "\n",
    "    nT = int(T / delta)\n",
    "\n",
    "    VecX = np.zeros(nT + 1)\n",
    "    VecT = np.zeros(nT + 1)\n",
    "\n",
    "    delX = sig * (delta)**(1/2)\n",
    "    X = 0\n",
    "    tem = 0\n",
    "    Comp = 0\n",
    "\n",
    "    VecX[0] = X\n",
    "    VecT[0] = tem\n",
    "\n",
    "    for i in range(nT):\n",
    "        Al = np.random.rand()\n",
    "        if Al > 0.5:\n",
    "            pr = 1\n",
    "        else:\n",
    "            pr = -1\n",
    "        X = X + pr * delX\n",
    "        tem = tem + delta\n",
    "        VecX[i + 1] = X\n",
    "        VecT[i + 1] = tem\n",
    "        Comp = Comp + delX\n",
    "\n",
    "    return VecX, VecT, Comp\n",
    "\n",
    "VecX, VecT, Comp = BM()\n",
    "\n",
    "plt.plot(VecT, VecX)\n",
    "plt.xlabel('Tempo')\n",
    "plt.ylabel('Brownian Motion')\n",
    "plt.grid(True)\n",
    "plt.show()\n"
   ]
  },
  {
   "cell_type": "code",
   "execution_count": null,
   "id": "e132f783",
   "metadata": {},
   "outputs": [],
   "source": []
  }
 ],
 "metadata": {
  "kernelspec": {
   "display_name": "Python 3 (ipykernel)",
   "language": "python",
   "name": "python3"
  },
  "language_info": {
   "codemirror_mode": {
    "name": "ipython",
    "version": 3
   },
   "file_extension": ".py",
   "mimetype": "text/x-python",
   "name": "python",
   "nbconvert_exporter": "python",
   "pygments_lexer": "ipython3",
   "version": "3.11.1"
  }
 },
 "nbformat": 4,
 "nbformat_minor": 5
}
